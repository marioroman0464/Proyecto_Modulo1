{
 "cells": [
  {
   "cell_type": "markdown",
   "metadata": {},
   "source": [
    "___\n",
    "<img style=\"float: left; margin: 30px 15px 15px 15px;\" src=\"https://d33wubrfki0l68.cloudfront.net/4ec62c1c925a380c912ddad740d18554c6822a11/fabe4/img/sponsors/iteso-university.png\" width=\"300\" height=\"500\" /> \n",
    "    \n",
    "    \n",
    "### <font color='navy'> Simulación de procesos financieros. \n",
    "\n",
    "**Nombres:** Integrante 1: Daniel Pastrana. Integrante 2: Mario García.\n",
    "\n",
    "**Fecha:** 07 de noviembre del 2023.\n",
    "\n",
    "**Expediente** : 733982. 740322.\n",
    "**Profesor:** Oscar David Jaramillo Zuluaga.\n",
    "    \n",
    "**Link Github**: Link con el enlace del repositorio del creador del proyecto\n",
    "\n",
    "# Proyecto TEMA-2"
   ]
  },
  {
   "cell_type": "markdown",
   "metadata": {},
   "source": [
    "<img style=\"float: right; margin: 0px 0px 15px 15px;\" src=\"https://upload.wikimedia.org/wikipedia/commons/thumb/3/3c/Los_Angeles_Lakers_logo.svg/1280px-Los_Angeles_Lakers_logo.svg.png\" width=\"300px\" height=\"100px\" />\n",
    "\n",
    "\n",
    "# Lakers Season Prediction\n",
    "> Para este proyecto, utilizaremos la simulación para predecir el éxito en la siguiente temporada del equipo de la NBA, Los Angeles Lakers. Este proyecto se centrará en predecir si el equipo alcanzará las finales. La simulación se realizará tomando en cuenta cuatro nodos o variables, obtenidos de las estadísticas del equipo desde la temporada 2000-01."
   ]
  },
  {
   "cell_type": "markdown",
   "metadata": {},
   "source": [
    "## Objetivos.\n",
    "\n",
    "### Objetivo general. \n",
    "> - Obtener el récord que tendrán los Lakers en temporada regular en la NBA el siguiente año.\n",
    "\n",
    "#### Objetivos específicos\n",
    "\n",
    "> - Sacar la correlación entre los puntos y el porcentaje de efectividad de tiros 3 puntos de los Lakers.\n",
    "> - Sacar la correlación entre los puntos del rival y los rebotes de los LAkers.\n",
    "> - Simular los puntos por partido que anotarán los Lakers.\n",
    "> - Simular los puntos por partido que recibirán los Lakers.\n",
    "> - Simular el porcentaje de efectividad en los intentos de tiro de 3 puntos de los Lakers.\n",
    "> - Simular los rebotes que conseguirán los Lakers.\n",
    "\n",
    "\n",
    "## Definición del problema.\n",
    "\n",
    "> El problema a trabajar es hacer una predicción sobre la temporada del equipo de baloncesto Los Angeles Lakers, esta predicción será para la temporada 2023-24 y buscará obtener su récord en temporada regular (partidos ganados/perdidos). Para la resolución del problema se tomará en cuenta las estadísticas de temporada regular y de postemporada de los últimos 4 años, lo que nos da un total de 352 partidos. Aunque la predicción solo será sobre el récord del equipo en temporada regular, los datos de playoffs también nos pueden servir al reflejar el nivel del equipo y su regularidad.\n",
    "\n",
    "\n",
    "### 1.4 Nodos y variables que se decidieron simular y porqué\n",
    "> - Puntos por partido de los Lakers.\n",
    "> - Puntos por partido del rival de los Lakers.\n",
    "> - Porcentaje de tiros de tres de los Lakers.\n",
    "> - Porcentaje de tiros de tres del rival de los Lakers.\n",
    "\n",
    "> Elegimos los primeros nodos ya quelo más importante al final de todo son los puntos que hacen los equipos. Los segundos nodos los escogemos ya que el tiro de 3 puntos es cada vez más importante en el baloncesto, por lo que nos parece una variable importante.\n",
    "\n",
    "### 1.5 Definición de hipótesis y supuestos.\n",
    ">  Para poder modelar un proceso de negocio o cualquiera otro proceso en el área de las ingenierías o ciencias sociales, después de identificar el objeto de estudio, es importante indicar cuales son los supuestos que se dan por verdaderos a lo largo de la ejecución del proceso. Estos supuestos se deben indicar en forma de variables e hipótesis (son diferentes), porque si puedes definir en un valor el supuesto lo llamaremos \"supuesto constante\" y si no es posible identificarlo con un número entonces será una hipótesis que afectará la construcción de los escenarios posibles del proceso.\n",
    "\n",
    "### 1.6 Obtención de bases de datos\n",
    "> El tercer paso del proyecto es indicar de dónde se obtendrán las bases de datos, que indican como se han comportado las variables que identificaste en tu proceso de negocio que vas a simular. En esta investigación debes haber encontrado información propia de la empresa, organización o institución que vas a simular y otra parte de la información debe provenir de investigación que realices en fuentes de información públicas o privadas como las que tiene SECOBI, ahí normalmente y dependiendo del problema elegido, se investigan variables económicas, como tasas de interés, inflación, tipo de cambio, etc., de varios años, por poner un ejemplo.\n",
    "\n",
    "### 1.7 Visualización de resultados de simulación.\n",
    "> Se deben simular al menos 4  \"nodos\" o \"escenarios\" en tu problema. Para la segunda entrega debes haber elaborado un programa que simule dos de ellos, los primeros dos de tu diagrama.\n",
    "> Para la entrega final deben de tener los 4 nodos con todas sus simulaciones.\n",
    "\n",
    "### 1.6 Conclusiones.\n",
    "> Mucho cuidado, las conclusiones no son cualquier cosa. Se debe concluir respecto a los objetivos planteados de acuerdo a los resultados obtenidos.\n",
    "\n",
    "### 1.7 Referencias.\n",
    "> Citar (en formato APA) la bibliografía utilizada."
   ]
  },
  {
   "cell_type": "code",
   "execution_count": 1,
   "metadata": {},
   "outputs": [],
   "source": [
    "### Librerias\n",
    "import pandas as pd\n",
    "import numpy as np\n",
    "import scipy.stats as st     \n",
    "import statsmodels.api as sm \n",
    "import matplotlib.pyplot as plt\n",
    "from scipy import optimize\n",
    "\n",
    "from scipy import stats\n",
    "from scipy.stats import pearsonr\n",
    "\n",
    "from sklearn.neighbors import KernelDensity\n",
    "from scipy.stats import gaussian_kde\n",
    "from statsmodels.nonparametric.kde import KDEUnivariate\n",
    "from statsmodels.nonparametric.kernel_density import KDEMultivariate\n",
    "\n",
    "from sklearn.model_selection import GridSearchCV\n",
    "import seaborn as sns\n",
    "\n",
    "import warnings\n",
    "warnings.filterwarnings(\"ignore\")"
   ]
  },
  {
   "cell_type": "code",
   "execution_count": 8,
   "metadata": {},
   "outputs": [
    {
     "data": {
      "text/html": [
       "<div>\n",
       "<style scoped>\n",
       "    .dataframe tbody tr th:only-of-type {\n",
       "        vertical-align: middle;\n",
       "    }\n",
       "\n",
       "    .dataframe tbody tr th {\n",
       "        vertical-align: top;\n",
       "    }\n",
       "\n",
       "    .dataframe thead th {\n",
       "        text-align: right;\n",
       "    }\n",
       "</style>\n",
       "<table border=\"1\" class=\"dataframe\">\n",
       "  <thead>\n",
       "    <tr style=\"text-align: right;\">\n",
       "      <th></th>\n",
       "      <th>Date</th>\n",
       "      <th>Result</th>\n",
       "      <th>LAL Points</th>\n",
       "      <th>Opp points</th>\n",
       "      <th>LAL 3P%</th>\n",
       "      <th>REB</th>\n",
       "    </tr>\n",
       "  </thead>\n",
       "  <tbody>\n",
       "    <tr>\n",
       "      <th>0</th>\n",
       "      <td>Tue, Oct 22, 2019</td>\n",
       "      <td>L</td>\n",
       "      <td>102</td>\n",
       "      <td>112</td>\n",
       "      <td>39.4</td>\n",
       "      <td>41</td>\n",
       "    </tr>\n",
       "    <tr>\n",
       "      <th>1</th>\n",
       "      <td>Fri, Oct 25, 2019</td>\n",
       "      <td>W</td>\n",
       "      <td>95</td>\n",
       "      <td>86</td>\n",
       "      <td>30.8</td>\n",
       "      <td>42</td>\n",
       "    </tr>\n",
       "    <tr>\n",
       "      <th>2</th>\n",
       "      <td>Sun, Oct 27, 2019</td>\n",
       "      <td>W</td>\n",
       "      <td>120</td>\n",
       "      <td>101</td>\n",
       "      <td>35.5</td>\n",
       "      <td>47</td>\n",
       "    </tr>\n",
       "    <tr>\n",
       "      <th>3</th>\n",
       "      <td>Tue, Oct 29, 2019</td>\n",
       "      <td>W</td>\n",
       "      <td>120</td>\n",
       "      <td>91</td>\n",
       "      <td>26.9</td>\n",
       "      <td>54</td>\n",
       "    </tr>\n",
       "    <tr>\n",
       "      <th>4</th>\n",
       "      <td>Fri, Nov 1, 2019</td>\n",
       "      <td>W</td>\n",
       "      <td>119</td>\n",
       "      <td>110</td>\n",
       "      <td>28.1</td>\n",
       "      <td>41</td>\n",
       "    </tr>\n",
       "    <tr>\n",
       "      <th>...</th>\n",
       "      <td>...</td>\n",
       "      <td>...</td>\n",
       "      <td>...</td>\n",
       "      <td>...</td>\n",
       "      <td>...</td>\n",
       "      <td>...</td>\n",
       "    </tr>\n",
       "    <tr>\n",
       "      <th>347</th>\n",
       "      <td>Fri, May 12, 2023</td>\n",
       "      <td>W</td>\n",
       "      <td>122</td>\n",
       "      <td>101</td>\n",
       "      <td>50.0</td>\n",
       "      <td>46</td>\n",
       "    </tr>\n",
       "    <tr>\n",
       "      <th>348</th>\n",
       "      <td>Tue, May 16, 2023</td>\n",
       "      <td>L</td>\n",
       "      <td>126</td>\n",
       "      <td>132</td>\n",
       "      <td>45.8</td>\n",
       "      <td>30</td>\n",
       "    </tr>\n",
       "    <tr>\n",
       "      <th>349</th>\n",
       "      <td>Thu, May 18, 2023</td>\n",
       "      <td>L</td>\n",
       "      <td>103</td>\n",
       "      <td>108</td>\n",
       "      <td>26.7</td>\n",
       "      <td>40</td>\n",
       "    </tr>\n",
       "    <tr>\n",
       "      <th>350</th>\n",
       "      <td>Sat, May 20, 2023</td>\n",
       "      <td>L</td>\n",
       "      <td>108</td>\n",
       "      <td>119</td>\n",
       "      <td>31.3</td>\n",
       "      <td>45</td>\n",
       "    </tr>\n",
       "    <tr>\n",
       "      <th>351</th>\n",
       "      <td>Mon, May 22, 2023</td>\n",
       "      <td>L</td>\n",
       "      <td>111</td>\n",
       "      <td>113</td>\n",
       "      <td>40.0</td>\n",
       "      <td>38</td>\n",
       "    </tr>\n",
       "  </tbody>\n",
       "</table>\n",
       "<p>352 rows × 6 columns</p>\n",
       "</div>"
      ],
      "text/plain": [
       "                  Date Result  LAL Points  Opp points  LAL 3P%  REB\n",
       "0    Tue, Oct 22, 2019      L         102         112     39.4   41\n",
       "1    Fri, Oct 25, 2019      W          95          86     30.8   42\n",
       "2    Sun, Oct 27, 2019      W         120         101     35.5   47\n",
       "3    Tue, Oct 29, 2019      W         120          91     26.9   54\n",
       "4     Fri, Nov 1, 2019      W         119         110     28.1   41\n",
       "..                 ...    ...         ...         ...      ...  ...\n",
       "347  Fri, May 12, 2023      W         122         101     50.0   46\n",
       "348  Tue, May 16, 2023      L         126         132     45.8   30\n",
       "349  Thu, May 18, 2023      L         103         108     26.7   40\n",
       "350  Sat, May 20, 2023      L         108         119     31.3   45\n",
       "351  Mon, May 22, 2023      L         111         113     40.0   38\n",
       "\n",
       "[352 rows x 6 columns]"
      ]
     },
     "execution_count": 8,
     "metadata": {},
     "output_type": "execute_result"
    }
   ],
   "source": [
    "df = pd.read_csv(\"Lakers_Stats.csv\")\n",
    "df"
   ]
  },
  {
   "cell_type": "code",
   "execution_count": 9,
   "metadata": {},
   "outputs": [],
   "source": [
    "lal_pts = df[\"LAL Points\"]\n",
    "opp_pts = df[\"Opp points\"]\n",
    "three_pts = df[\"LAL 3P%\"]\n",
    "reb = df[\"REB\"]"
   ]
  },
  {
   "cell_type": "code",
   "execution_count": 11,
   "metadata": {},
   "outputs": [
    {
     "data": {
      "image/png": "[encoded data removed]",
      "text/plain": [
       "<Figure size 640x480 with 1 Axes>"
      ]
     },
     "metadata": {},
     "output_type": "display_data"
    }
   ],
   "source": [
    "plt.hist(lal_pts)\n",
    "plt.title(\"Puntos Lakers\")\n",
    "plt.show()"
   ]
  },
  {
   "cell_type": "code",
   "execution_count": null,
   "metadata": {},
   "outputs": [],
   "source": []
  },
  {
   "cell_type": "code",
   "execution_count": null,
   "metadata": {},
   "outputs": [],
   "source": []
  },
  {
   "cell_type": "code",
   "execution_count": null,
   "metadata": {},
   "outputs": [],
   "source": []
  },
  {
   "cell_type": "code",
   "execution_count": 12,
   "metadata": {},
   "outputs": [
    {
     "data": {
      "image/png": "[encoded data removed]",
      "text/plain": [
       "<Figure size 640x480 with 1 Axes>"
      ]
     },
     "metadata": {},
     "output_type": "display_data"
    }
   ],
   "source": [
    "plt.hist(opp_pts)\n",
    "plt.title(\"Puntos rival\")\n",
    "plt.show()"
   ]
  },
  {
   "cell_type": "markdown",
   "metadata": {},
   "source": [
    "___\n",
    "## 2. Especificaciones adicionales.\n",
    "En el grupo deben haber mínimo dos integrantes y máximo tres integrantes. Para propósitos logísticos nada más, por favor enumérense como *integrante 1*, *integrante 2* e *integrante 3*.\n",
    "\n",
    "### 2.1 Notebook de jupyter. \n",
    "> Los anteriores numerales los deben desarrollar todos en un notebook de jupyter y llamarlo de la siguiente manera `ProyectoModulo1_ApellidoN1_ApellidoN2_ApellidoN3`, donde `ApellidoNi` hace referencia al apellido materno y la inicial del primer nombre del integrante `i`.\n",
    "\n",
    "### 2.2 Proyecto en `GitHub`.\n",
    "> El integrante 1 deberá crear un proyecto en `GitHub` llamado **proyecto_modulo1**, donde tendrán todos los archivos relacionados con el proyecto. Los demás integrantes deben hacer un *fork* del proyecto, seguir el proyecto principal con `GitKraken` y hacer al menos dos contribuciones con *pull request* (como se hizo en la tarea). En el proyecto, deben incluir el repositorio remoto del integrante 1.\n",
    "\n",
    "### 2.3 Presentación.\n",
    "> Recuerden que la nota del proyecto es mitad el trabajo, y mitad la presentación. Deben hacer una presentación utlizando un notebook de python para presentar el trabajo durante un horario de clase que se será posteriomente definido. La presentación, además de llevar todos los componentes básicos descritos en el entregable, debe llevar una tabla de contenido.\n",
    "> - Presentación: 10 minutos.\n",
    "> - Seguir estas recomendaciones: https://es.slideshare.net/MeireComputacion/power-point-pautas-para-una-buen-trabajo"
   ]
  },
  {
   "cell_type": "markdown",
   "metadata": {},
   "source": [
    "<script>\n",
    "  $(document).ready(function(){\n",
    "    $('div.prompt').hide();\n",
    "    $('div.back-to-top').hide();\n",
    "    $('nav#menubar').hide();\n",
    "    $('.breadcrumb').hide();\n",
    "    $('.hidden-print').hide();\n",
    "  });\n",
    "</script>\n",
    "\n",
    "<footer id=\"attribution\" style=\"float:right; color:#808080; background:#fff;\">\n",
    "Created with Jupyter by Esteban Jiménez Rodríguez.\n",
    "</footer>"
   ]
  }
 ],
 "metadata": {
  "kernelspec": {
   "display_name": "Python 3 (ipykernel)",
   "language": "python",
   "name": "python3"
  },
  "language_info": {
   "codemirror_mode": {
    "name": "ipython",
    "version": 3
   },
   "file_extension": ".py",
   "mimetype": "text/x-python",
   "name": "python",
   "nbconvert_exporter": "python",
   "pygments_lexer": "ipython3",
   "version": "3.9.13"
  }
 },
 "nbformat": 4,
 "nbformat_minor": 2
}
